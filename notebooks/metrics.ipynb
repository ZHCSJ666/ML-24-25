{
 "cells": [
  {
   "cell_type": "code",
   "execution_count": null,
   "metadata": {},
   "outputs": [],
   "source": [
    "import rootutils\n",
    "\n",
    "rootutils.setup_root(\".\", indicator=\".project-root\", pythonpath=True)\n",
    "\n",
    "from src.metrics.bleu import SacreBLEUScore\n",
    "\n",
    "bleu = SacreBLEUScore(n_gram=1, tokenize=\"none\")\n",
    "\n",
    "preds = [\n",
    "    \"hello world hello world hello world hello world hello world hello world hello world hello world hello world hello world\",\n",
    "    \"hello world hello world hello world hello world hello world hello world hello world hello world hello world hello world\",\n",
    "]\n",
    "target = [\n",
    "    \"hello world hello world hello world hello world hello world hello world hello world hello world hello world hello world\",\n",
    "    \"hello world hello world hello world hello world hello world hello world hello world hello world hello world hello world\",\n",
    "]\n",
    "\n",
    "# for i in range(len(preds)):\n",
    "#     bleu.update(preds[i], target[i])"
   ]
  },
  {
   "cell_type": "code",
   "execution_count": null,
   "metadata": {},
   "outputs": [],
   "source": [
    "bleu(preds[1], target[1])"
   ]
  },
  {
   "cell_type": "code",
   "execution_count": null,
   "metadata": {},
   "outputs": [],
   "source": [
    "from src.metrics.rouge import ROUGEScore\n",
    "\n",
    "rouge = ROUGEScore(rouge_keys=\"rouge1\")[\"rouge1_fmeasure\"]\n",
    "rouge(preds[1], target[1])"
   ]
  }
 ],
 "metadata": {
  "language_info": {
   "name": "python"
  }
 },
 "nbformat": 4,
 "nbformat_minor": 2
}
