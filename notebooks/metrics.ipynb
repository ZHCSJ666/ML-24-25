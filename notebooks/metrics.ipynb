{
 "cells": [
  {
   "cell_type": "code",
   "execution_count": null,
   "metadata": {},
   "outputs": [],
   "source": [
    "import rootutils\n",
    "\n",
    "rootutils.setup_root(\".\", indicator=\".project-root\", pythonpath=True)\n",
    "\n",
    "from src.metrics.bleu import SacreBLEUScore\n",
    "\n",
    "bleu = SacreBLEUScore(n_gram=1, tokenize=\"none\")\n",
    "\n",
    "preds = [\n",
    "    \"hello world hello world hello world hello world hello world hello world hello world hello world hello world hello world\",\n",
    "    \"hello world hello world hello world hello world hello world hello world hello world hello world hello world hello world\",\n",
    "]\n",
    "target = [\n",
    "    \"hello world hello world hello world hello world hello world hello world hello world hello world hello world hello world\",\n",
    "    \"hello world hello world hello world hello world hello world hello world hello world hello world hello world hello world\",\n",
    "]\n",
    "\n",
    "for i in range(len(preds)):\n",
    "    bleu.update(preds[i], target[i])"
   ]
  },
  {
   "cell_type": "code",
   "execution_count": null,
   "metadata": {},
   "outputs": [],
   "source": [
    "bleu.compute()"
   ]
  }
 ],
 "metadata": {
  "language_info": {
   "name": "python"
  }
 },
 "nbformat": 4,
 "nbformat_minor": 2
}
